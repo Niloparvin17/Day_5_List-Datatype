{
 "cells": [
  {
   "cell_type": "code",
   "execution_count": null,
   "id": "30a77f5f",
   "metadata": {},
   "outputs": [],
   "source": [
    "# Organising List Datatype:"
   ]
  },
  {
   "cell_type": "code",
   "execution_count": 2,
   "id": "08b7ebaf",
   "metadata": {},
   "outputs": [],
   "source": [
    "cars=['suzuki','maruti','honda','kia','bmw','toyoto','audi','benz']"
   ]
  },
  {
   "cell_type": "code",
   "execution_count": 3,
   "id": "680c1ed2",
   "metadata": {},
   "outputs": [
    {
     "name": "stdout",
     "output_type": "stream",
     "text": [
      "['suzuki', 'maruti', 'honda', 'kia', 'bmw', 'toyoto', 'audi', 'benz']\n"
     ]
    }
   ],
   "source": [
    "print(cars)"
   ]
  },
  {
   "cell_type": "code",
   "execution_count": 4,
   "id": "b5f5ea9d",
   "metadata": {},
   "outputs": [
    {
     "data": {
      "text/plain": [
       "list"
      ]
     },
     "execution_count": 4,
     "metadata": {},
     "output_type": "execute_result"
    }
   ],
   "source": [
    "# get get cars datatpe we use type method\n",
    "\n",
    "type(cars)"
   ]
  },
  {
   "cell_type": "code",
   "execution_count": null,
   "id": "9c397d32",
   "metadata": {},
   "outputs": [],
   "source": [
    "# organise list in alphabetical order\n",
    " # there are 2 types to organise \n",
    "    # 1) Temporary Approch\n",
    "    # 2) Permanent Approch."
   ]
  },
  {
   "cell_type": "code",
   "execution_count": 6,
   "id": "fdb45a6d",
   "metadata": {},
   "outputs": [
    {
     "name": "stdout",
     "output_type": "stream",
     "text": [
      "\n",
      "Original List : \n",
      "  ['suzuki', 'maruti', 'honda', 'kia', 'bmw', 'toyoto', 'audi', 'benz']\n",
      "\n",
      "After sorted : \n",
      " ['audi', 'benz', 'bmw', 'honda', 'kia', 'maruti', 'suzuki', 'toyoto']\n"
     ]
    }
   ],
   "source": [
    "# 1) temporary Approch:  sorted -> We will get back the original order of list\n",
    "\n",
    "print(\"\\nOriginal List : \\n \",cars)\n",
    "print(\"\\nAfter sorted : \\n\",sorted(cars))\n"
   ]
  },
  {
   "cell_type": "code",
   "execution_count": 8,
   "id": "708ce807",
   "metadata": {},
   "outputs": [
    {
     "name": "stdout",
     "output_type": "stream",
     "text": [
      "['suzuki', 'maruti', 'honda', 'kia', 'bmw', 'toyoto', 'audi', 'benz']\n"
     ]
    }
   ],
   "source": [
    "# After appling sorted method to list again it will display original list bez sorted is temporary method.\n",
    "# it will not change the order of orinal list\n",
    "\n",
    "print(cars)"
   ]
  },
  {
   "cell_type": "code",
   "execution_count": 10,
   "id": "2f6aa4f7",
   "metadata": {},
   "outputs": [
    {
     "name": "stdout",
     "output_type": "stream",
     "text": [
      "Befor sort :\n",
      "  ['audi', 'benz', 'bmw', 'honda', 'kia', 'maruti', 'suzuki', 'toyoto']\n",
      "\n",
      "After Sort : \n",
      "  ['audi', 'benz', 'bmw', 'honda', 'kia', 'maruti', 'suzuki', 'toyoto']\n"
     ]
    }
   ],
   "source": [
    "# 2) permanent Approch: sort -> All changes are implemented permanently to list.\n",
    "\n",
    "print(\"Befor sort :\\n \",cars)\n",
    "cars.sort()                # from this position whenever we use list cars it will give u sorted list.\n",
    "print(\"\\nAfter Sort : \\n \",cars)  "
   ]
  },
  {
   "cell_type": "code",
   "execution_count": 13,
   "id": "14787654",
   "metadata": {},
   "outputs": [
    {
     "name": "stdout",
     "output_type": "stream",
     "text": [
      "Befor Reverse : \n",
      "  ['audi', 'benz', 'bmw', 'honda', 'kia', 'maruti', 'suzuki', 'toyoto']\n",
      "\n",
      "After Reverse : \n",
      " ['toyoto', 'suzuki', 'maruti', 'kia', 'honda', 'bmw', 'benz', 'audi']\n"
     ]
    }
   ],
   "source": [
    "# list in reverse order.\n",
    "print('Befor Reverse : \\n ', cars)\n",
    "cars.reverse()\n",
    "print('\\nAfter Reverse : \\n',cars)\n"
   ]
  },
  {
   "cell_type": "code",
   "execution_count": 14,
   "id": "e58db9b5",
   "metadata": {},
   "outputs": [
    {
     "name": "stdout",
     "output_type": "stream",
     "text": [
      "['toyoto', 'suzuki', 'maruti', 'kia', 'honda', 'bmw', 'benz', 'audi']\n"
     ]
    }
   ],
   "source": [
    "print(cars)   # after applying reverse you will get list in reverse order."
   ]
  },
  {
   "cell_type": "code",
   "execution_count": 15,
   "id": "ea0928e7",
   "metadata": {},
   "outputs": [
    {
     "data": {
      "text/plain": [
       "8"
      ]
     },
     "execution_count": 15,
     "metadata": {},
     "output_type": "execute_result"
    }
   ],
   "source": [
    "# len -> To count number of elements in list.\n",
    "\n",
    "len(cars)"
   ]
  },
  {
   "cell_type": "code",
   "execution_count": 16,
   "id": "b3c08d62",
   "metadata": {},
   "outputs": [
    {
     "name": "stdout",
     "output_type": "stream",
     "text": [
      "['aditi', 'sara', 'monika', 'ramaya', 'naveen', 'adil', 'kiran', 'david']\n"
     ]
    }
   ],
   "source": [
    "# Introduction to Slicing:- In order to access range of elements in list slicing is used.\n",
    "\n",
    "#syntax :   [start_value:stop_value:step_count]\n",
    "\n",
    "students=['aditi','sara','monika','ramaya','naveen','adil','kiran','david']\n",
    "\n",
    "print(students)\n"
   ]
  },
  {
   "cell_type": "code",
   "execution_count": 17,
   "id": "430dab99",
   "metadata": {},
   "outputs": [
    {
     "name": "stdout",
     "output_type": "stream",
     "text": [
      "['aditi']\n"
     ]
    }
   ],
   "source": [
    "print(students[0:1])"
   ]
  },
  {
   "cell_type": "code",
   "execution_count": 18,
   "id": "3f3ca2fb",
   "metadata": {},
   "outputs": [
    {
     "name": "stdout",
     "output_type": "stream",
     "text": [
      "['aditi', 'sara']\n"
     ]
    }
   ],
   "source": [
    "print(students[0:2])"
   ]
  },
  {
   "cell_type": "code",
   "execution_count": 19,
   "id": "ba916e69",
   "metadata": {},
   "outputs": [
    {
     "name": "stdout",
     "output_type": "stream",
     "text": [
      "['ramaya', 'naveen', 'adil']\n"
     ]
    }
   ],
   "source": [
    "print(students[3:6])"
   ]
  },
  {
   "cell_type": "code",
   "execution_count": 22,
   "id": "d258b2c1",
   "metadata": {},
   "outputs": [
    {
     "name": "stdout",
     "output_type": "stream",
     "text": [
      "Original List :\n",
      " ['aditi', 'sara', 'monika', 'ramaya', 'naveen', 'adil', 'kiran', 'david']\n",
      "Slicing with step count :\n",
      " ['aditi', 'monika', 'naveen', 'kiran']\n"
     ]
    }
   ],
   "source": [
    "# by using Step_count\n",
    "\n",
    "print(\"Original List :\\n\",students)\n",
    "print(\"Slicing with step count :\\n\",students[0:8:2]) #by setp count 2 it will display every alternate elements."
   ]
  },
  {
   "cell_type": "code",
   "execution_count": 23,
   "id": "f30c20c3",
   "metadata": {},
   "outputs": [
    {
     "name": "stdout",
     "output_type": "stream",
     "text": [
      "Original List :\n",
      " ['aditi', 'sara', 'monika', 'ramaya', 'naveen', 'adil', 'kiran', 'david']\n",
      "Slicing with step count :\n",
      " ['aditi', 'ramaya', 'kiran']\n"
     ]
    }
   ],
   "source": [
    "print(\"Original List :\\n\",students)\n",
    "print(\"Slicing with step count :\\n\",students[0:8:3]) #by setp count 3 it will display every alternate elements."
   ]
  },
  {
   "cell_type": "code",
   "execution_count": 24,
   "id": "931dc998",
   "metadata": {},
   "outputs": [
    {
     "name": "stdout",
     "output_type": "stream",
     "text": [
      "Original List :\n",
      " ['aditi', 'sara', 'monika', 'ramaya', 'naveen', 'adil', 'kiran', 'david']\n",
      "Slicing with step count :\n",
      " ['ramaya', 'adil', 'david']\n"
     ]
    }
   ],
   "source": [
    "print(\"Original List :\\n\",students)\n",
    "print(\"Slicing with step count :\\n\",students[3:8:2])\n"
   ]
  },
  {
   "cell_type": "code",
   "execution_count": null,
   "id": "f8f27056",
   "metadata": {},
   "outputs": [],
   "source": [
    "# Introduction to concept of negative(-) indexing.."
   ]
  },
  {
   "cell_type": "code",
   "execution_count": 26,
   "id": "3c68b524",
   "metadata": {},
   "outputs": [
    {
     "name": "stdout",
     "output_type": "stream",
     "text": [
      "['aditi', 'sara', 'monika', 'ramaya', 'naveen', 'adil', 'kiran', 'david']\n"
     ]
    }
   ],
   "source": [
    "print(students)  #It will print elements in normal order like 0,1,2,3,......"
   ]
  },
  {
   "cell_type": "code",
   "execution_count": 28,
   "id": "9b160959",
   "metadata": {},
   "outputs": [
    {
     "name": "stdout",
     "output_type": "stream",
     "text": [
      "david\n"
     ]
    }
   ],
   "source": [
    "print(students[-1]) # -1 will give u list element from end. negative indexing will be stared from end as -1,-2,-3,....."
   ]
  },
  {
   "cell_type": "code",
   "execution_count": 30,
   "id": "4b96144f",
   "metadata": {},
   "outputs": [
    {
     "name": "stdout",
     "output_type": "stream",
     "text": [
      "adil\n"
     ]
    }
   ],
   "source": [
    "print(students[-3])"
   ]
  },
  {
   "cell_type": "code",
   "execution_count": null,
   "id": "3893cc70",
   "metadata": {},
   "outputs": [],
   "source": []
  }
 ],
 "metadata": {
  "kernelspec": {
   "display_name": "Python 3 (ipykernel)",
   "language": "python",
   "name": "python3"
  },
  "language_info": {
   "codemirror_mode": {
    "name": "ipython",
    "version": 3
   },
   "file_extension": ".py",
   "mimetype": "text/x-python",
   "name": "python",
   "nbconvert_exporter": "python",
   "pygments_lexer": "ipython3",
   "version": "3.11.3"
  }
 },
 "nbformat": 4,
 "nbformat_minor": 5
}
